{
 "cells": [
  {
   "cell_type": "markdown",
   "metadata": {},
   "source": [
    "## pandas curd"
   ]
  },
  {
   "cell_type": "markdown",
   "metadata": {},
   "source": [
    "### series 增删改查"
   ]
  },
  {
   "cell_type": "code",
   "execution_count": 32,
   "metadata": {},
   "outputs": [
    {
     "data": {
      "text/plain": [
       "a    1\n",
       "b    2\n",
       "c    3\n",
       "dtype: int64"
      ]
     },
     "execution_count": 32,
     "metadata": {},
     "output_type": "execute_result"
    }
   ],
   "source": [
    "import pandas as pd\n",
    "\n",
    "s = pd.Series(data=[1,2,3], index=['a','b','c'])\n",
    "s"
   ]
  },
  {
   "cell_type": "code",
   "execution_count": 33,
   "metadata": {},
   "outputs": [
    {
     "name": "stdout",
     "output_type": "stream",
     "text": [
      "a    1\n",
      "b    2\n",
      "dtype: int64\n",
      "--------------------\n",
      "1\n",
      "--------------------\n",
      "1\n",
      "--------------------\n",
      "a    1\n",
      "c    3\n",
      "dtype: int64\n"
     ]
    }
   ],
   "source": [
    "print(s[0:2]) # slice\n",
    "print('-' * 20)\n",
    "print(s.loc['a'])\n",
    "print('-' * 20)\n",
    "print(s.iloc[0])\n",
    "print('-' * 20)\n",
    "print(s[[True, False, True]])"
   ]
  },
  {
   "cell_type": "code",
   "execution_count": 34,
   "metadata": {},
   "outputs": [
    {
     "name": "stdout",
     "output_type": "stream",
     "text": [
      "a    3\n",
      "b    4\n",
      "c    5\n",
      "dtype: int64\n",
      "a    6\n",
      "b    4\n",
      "c    5\n",
      "dtype: int64\n",
      "a    6\n",
      "b    4\n",
      "c    5\n",
      "d    6\n",
      "e    7\n",
      "f    8\n",
      "dtype: int64\n"
     ]
    },
    {
     "name": "stderr",
     "output_type": "stream",
     "text": [
      "/var/folders/48/_796mp152vgbt7zqd3f18fx80000gp/T/ipykernel_6420/4207705013.py:9: FutureWarning: The series.append method is deprecated and will be removed from pandas in a future version. Use pandas.concat instead.\n",
      "  print(s1.append(s2))\n"
     ]
    }
   ],
   "source": [
    "s1 = s.copy()\n",
    "s1['a'] = 3\n",
    "s1['b'] = 4\n",
    "s1['c'] = 5\n",
    "print(s1)\n",
    "s1.replace(3, 6, inplace=True) # inplace=True means replace the original data\n",
    "print(s1)\n",
    "s2 = pd.Series(data=[6,7,8], index=['d','e','f'])\n",
    "print(s1.append(s2))"
   ]
  },
  {
   "cell_type": "code",
   "execution_count": 35,
   "metadata": {},
   "outputs": [
    {
     "name": "stdout",
     "output_type": "stream",
     "text": [
      "b    4\n",
      "c    5\n",
      "dtype: int64\n",
      "b    4\n",
      "dtype: int64\n"
     ]
    }
   ],
   "source": [
    "del s1['a']\n",
    "print(s1)\n",
    "s1.drop(['c'], inplace=True)\n",
    "print(s1)"
   ]
  },
  {
   "cell_type": "code",
   "execution_count": null,
   "metadata": {},
   "outputs": [],
   "source": []
  }
 ],
 "metadata": {
  "kernelspec": {
   "display_name": "Python 3",
   "language": "python",
   "name": "python3"
  },
  "language_info": {
   "codemirror_mode": {
    "name": "ipython",
    "version": 3
   },
   "file_extension": ".py",
   "mimetype": "text/x-python",
   "name": "python",
   "nbconvert_exporter": "python",
   "pygments_lexer": "ipython3",
   "version": "3.8.17"
  }
 },
 "nbformat": 4,
 "nbformat_minor": 4
}
