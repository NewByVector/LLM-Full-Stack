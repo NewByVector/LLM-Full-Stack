{
 "cells": [
  {
   "cell_type": "markdown",
   "metadata": {},
   "source": [
    "## pandas loc"
   ]
  },
  {
   "cell_type": "markdown",
   "metadata": {},
   "source": [
    "### loc/iloc"
   ]
  },
  {
   "cell_type": "code",
   "execution_count": 7,
   "metadata": {},
   "outputs": [
    {
     "name": "stdout",
     "output_type": "stream",
     "text": [
      "   Survived  Pclass\n",
      "0         0       3\n",
      "1         1       1\n",
      "2         1       3\n",
      "3         1       1\n",
      "4         0       3\n"
     ]
    }
   ],
   "source": [
    "import pandas as pd\n",
    "df = pd.read_csv('./data/train.csv')\n",
    "\n",
    "mdf = df.iloc[0:5, 1:3]\n",
    "print(mdf)"
   ]
  },
  {
   "cell_type": "code",
   "execution_count": 8,
   "metadata": {},
   "outputs": [
    {
     "name": "stdout",
     "output_type": "stream",
     "text": [
      "PassengerId         6\n",
      "Survived            0\n",
      "Pclass              3\n",
      "Sex              male\n",
      "Age               NaN\n",
      "SibSp               0\n",
      "Parch               0\n",
      "Ticket         330877\n",
      "Fare           8.4583\n",
      "Cabin             NaN\n",
      "Embarked            Q\n",
      "Name: Moran, Mr. James, dtype: object\n",
      "8.4583\n"
     ]
    }
   ],
   "source": [
    "df = df.set_index('Name')\n",
    "print(df.loc['Moran, Mr. James'])\n",
    "print(df.loc['Moran, Mr. James', 'Fare'])"
   ]
  },
  {
   "cell_type": "markdown",
   "metadata": {},
   "source": [
    "### bool 索引"
   ]
  },
  {
   "cell_type": "code",
   "execution_count": 9,
   "metadata": {},
   "outputs": [
    {
     "name": "stdout",
     "output_type": "stream",
     "text": [
      "Name\n",
      "Braund, Mr. Owen Harris                                 True\n",
      "Cumings, Mrs. John Bradley (Florence Briggs Thayer)    False\n",
      "Heikkinen, Miss. Laina                                  True\n",
      "Futrelle, Mrs. Jacques Heath (Lily May Peel)           False\n",
      "Allen, Mr. William Henry                                True\n",
      "                                                       ...  \n",
      "Montvila, Rev. Juozas                                   True\n",
      "Graham, Miss. Margaret Edith                            True\n",
      "Johnston, Miss. Catherine Helen \"Carrie\"                True\n",
      "Behr, Mr. Karl Howell                                   True\n",
      "Dooley, Mr. Patrick                                     True\n",
      "Name: Fare, Length: 891, dtype: bool\n",
      "730\n"
     ]
    },
    {
     "data": {
      "text/html": [
       "<div>\n",
       "<style scoped>\n",
       "    .dataframe tbody tr th:only-of-type {\n",
       "        vertical-align: middle;\n",
       "    }\n",
       "\n",
       "    .dataframe tbody tr th {\n",
       "        vertical-align: top;\n",
       "    }\n",
       "\n",
       "    .dataframe thead th {\n",
       "        text-align: right;\n",
       "    }\n",
       "</style>\n",
       "<table border=\"1\" class=\"dataframe\">\n",
       "  <thead>\n",
       "    <tr style=\"text-align: right;\">\n",
       "      <th></th>\n",
       "      <th>PassengerId</th>\n",
       "      <th>Survived</th>\n",
       "      <th>Pclass</th>\n",
       "      <th>Sex</th>\n",
       "      <th>Age</th>\n",
       "      <th>SibSp</th>\n",
       "      <th>Parch</th>\n",
       "      <th>Ticket</th>\n",
       "      <th>Fare</th>\n",
       "      <th>Cabin</th>\n",
       "      <th>Embarked</th>\n",
       "    </tr>\n",
       "    <tr>\n",
       "      <th>Name</th>\n",
       "      <th></th>\n",
       "      <th></th>\n",
       "      <th></th>\n",
       "      <th></th>\n",
       "      <th></th>\n",
       "      <th></th>\n",
       "      <th></th>\n",
       "      <th></th>\n",
       "      <th></th>\n",
       "      <th></th>\n",
       "      <th></th>\n",
       "    </tr>\n",
       "  </thead>\n",
       "  <tbody>\n",
       "    <tr>\n",
       "      <th>Braund, Mr. Owen Harris</th>\n",
       "      <td>1</td>\n",
       "      <td>0</td>\n",
       "      <td>3</td>\n",
       "      <td>male</td>\n",
       "      <td>22.0</td>\n",
       "      <td>1</td>\n",
       "      <td>0</td>\n",
       "      <td>A/5 21171</td>\n",
       "      <td>7.2500</td>\n",
       "      <td>NaN</td>\n",
       "      <td>S</td>\n",
       "    </tr>\n",
       "    <tr>\n",
       "      <th>Heikkinen, Miss. Laina</th>\n",
       "      <td>3</td>\n",
       "      <td>1</td>\n",
       "      <td>3</td>\n",
       "      <td>female</td>\n",
       "      <td>26.0</td>\n",
       "      <td>0</td>\n",
       "      <td>0</td>\n",
       "      <td>STON/O2. 3101282</td>\n",
       "      <td>7.9250</td>\n",
       "      <td>NaN</td>\n",
       "      <td>S</td>\n",
       "    </tr>\n",
       "    <tr>\n",
       "      <th>Allen, Mr. William Henry</th>\n",
       "      <td>5</td>\n",
       "      <td>0</td>\n",
       "      <td>3</td>\n",
       "      <td>male</td>\n",
       "      <td>35.0</td>\n",
       "      <td>0</td>\n",
       "      <td>0</td>\n",
       "      <td>373450</td>\n",
       "      <td>8.0500</td>\n",
       "      <td>NaN</td>\n",
       "      <td>S</td>\n",
       "    </tr>\n",
       "    <tr>\n",
       "      <th>Moran, Mr. James</th>\n",
       "      <td>6</td>\n",
       "      <td>0</td>\n",
       "      <td>3</td>\n",
       "      <td>male</td>\n",
       "      <td>NaN</td>\n",
       "      <td>0</td>\n",
       "      <td>0</td>\n",
       "      <td>330877</td>\n",
       "      <td>8.4583</td>\n",
       "      <td>NaN</td>\n",
       "      <td>Q</td>\n",
       "    </tr>\n",
       "    <tr>\n",
       "      <th>Palsson, Master. Gosta Leonard</th>\n",
       "      <td>8</td>\n",
       "      <td>0</td>\n",
       "      <td>3</td>\n",
       "      <td>male</td>\n",
       "      <td>2.0</td>\n",
       "      <td>3</td>\n",
       "      <td>1</td>\n",
       "      <td>349909</td>\n",
       "      <td>21.0750</td>\n",
       "      <td>NaN</td>\n",
       "      <td>S</td>\n",
       "    </tr>\n",
       "  </tbody>\n",
       "</table>\n",
       "</div>"
      ],
      "text/plain": [
       "                                PassengerId  Survived  Pclass     Sex   Age  \\\n",
       "Name                                                                          \n",
       "Braund, Mr. Owen Harris                   1         0       3    male  22.0   \n",
       "Heikkinen, Miss. Laina                    3         1       3  female  26.0   \n",
       "Allen, Mr. William Henry                  5         0       3    male  35.0   \n",
       "Moran, Mr. James                          6         0       3    male   NaN   \n",
       "Palsson, Master. Gosta Leonard            8         0       3    male   2.0   \n",
       "\n",
       "                                SibSp  Parch            Ticket     Fare Cabin  \\\n",
       "Name                                                                            \n",
       "Braund, Mr. Owen Harris             1      0         A/5 21171   7.2500   NaN   \n",
       "Heikkinen, Miss. Laina              0      0  STON/O2. 3101282   7.9250   NaN   \n",
       "Allen, Mr. William Henry            0      0            373450   8.0500   NaN   \n",
       "Moran, Mr. James                    0      0            330877   8.4583   NaN   \n",
       "Palsson, Master. Gosta Leonard      3      1            349909  21.0750   NaN   \n",
       "\n",
       "                               Embarked  \n",
       "Name                                     \n",
       "Braund, Mr. Owen Harris               S  \n",
       "Heikkinen, Miss. Laina                S  \n",
       "Allen, Mr. William Henry              S  \n",
       "Moran, Mr. James                      Q  \n",
       "Palsson, Master. Gosta Leonard        S  "
      ]
     },
     "execution_count": 9,
     "metadata": {},
     "output_type": "execute_result"
    }
   ],
   "source": [
    "index = df['Fare'] < 50\n",
    "print(index)\n",
    "print(index.sum())\n",
    "df[index].head(5)"
   ]
  },
  {
   "cell_type": "code",
   "execution_count": null,
   "metadata": {},
   "outputs": [],
   "source": []
  }
 ],
 "metadata": {
  "kernelspec": {
   "display_name": "Python 3",
   "language": "python",
   "name": "python3"
  },
  "language_info": {
   "codemirror_mode": {
    "name": "ipython",
    "version": 3
   },
   "file_extension": ".py",
   "mimetype": "text/x-python",
   "name": "python",
   "nbconvert_exporter": "python",
   "pygments_lexer": "ipython3",
   "version": "3.8.17"
  }
 },
 "nbformat": 4,
 "nbformat_minor": 4
}
